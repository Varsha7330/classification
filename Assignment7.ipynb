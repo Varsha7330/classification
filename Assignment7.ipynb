{
  "nbformat": 4,
  "nbformat_minor": 0,
  "metadata": {
    "colab": {
      "provenance": [],
      "authorship_tag": "ABX9TyOdsWbWyVdVxmb+b8Wgj+Sg",
      "include_colab_link": true
    },
    "kernelspec": {
      "name": "python3",
      "display_name": "Python 3"
    },
    "language_info": {
      "name": "python"
    }
  },
  "cells": [
    {
      "cell_type": "markdown",
      "metadata": {
        "id": "view-in-github",
        "colab_type": "text"
      },
      "source": [
        "<a href=\"https://colab.research.google.com/github/Varsha7330/classification/blob/main/Assignment7.ipynb\" target=\"_parent\"><img src=\"https://colab.research.google.com/assets/colab-badge.svg\" alt=\"Open In Colab\"/></a>"
      ]
    },
    {
      "cell_type": "markdown",
      "source": [
        "**About Dataset**                                                          \n",
        "Dataset Overview:                                                         \n",
        "The Sleep Health and Lifestyle Dataset provides detailed insights into the sleep patterns, daily habits, and lifestyle factors of individuals. This synthetic dataset comprises 400 rows and 13 columns, covering essential metrics such as sleep duration, sleep quality, physical activity levels, stress, BMI category, cardiovascular health, and the presence of sleep disorders."
      ],
      "metadata": {
        "id": "k0kd1anDFDJk"
      }
    },
    {
      "cell_type": "code",
      "execution_count": 1,
      "metadata": {
        "id": "a_vn2AV6CmX6"
      },
      "outputs": [],
      "source": [
        "# Import necessary libraries\n",
        "import pandas as pd\n",
        "from sklearn.model_selection import train_test_split\n",
        "from sklearn.preprocessing import LabelEncoder, StandardScaler\n",
        "from sklearn.linear_model import LogisticRegression\n",
        "from sklearn.naive_bayes import GaussianNB\n",
        "from sklearn.neighbors import KNeighborsClassifier\n",
        "from sklearn.tree import DecisionTreeClassifier\n",
        "from sklearn.svm import SVC\n",
        "from sklearn.metrics import classification_report"
      ]
    },
    {
      "cell_type": "code",
      "source": [
        "# Load the dataset\n",
        "file_path = 'sleep_health_lifestyle_dataset.csv'\n",
        "data = pd.read_csv(\"/content/sleep_health_lifestyle_dataset.csv\")\n",
        "print(file_path)\n",
        "print(data)"
      ],
      "metadata": {
        "colab": {
          "base_uri": "https://localhost:8080/"
        },
        "id": "bA-Q0TKQFcbm",
        "outputId": "65d68aea-dcd1-4fbe-d3fb-18d203832daa"
      },
      "execution_count": 5,
      "outputs": [
        {
          "output_type": "stream",
          "name": "stdout",
          "text": [
            "sleep_health_lifestyle_dataset.csv\n",
            "     Person ID  Gender  Age     Occupation  Sleep Duration (hours)  \\\n",
            "0            1    Male   29   Manual Labor                     7.4   \n",
            "1            2  Female   43        Retired                     4.2   \n",
            "2            3    Male   44        Retired                     6.1   \n",
            "3            4    Male   29  Office Worker                     8.3   \n",
            "4            5    Male   67        Retired                     9.1   \n",
            "..         ...     ...  ...            ...                     ...   \n",
            "395        396  Female   36        Student                     4.5   \n",
            "396        397  Female   45   Manual Labor                     6.0   \n",
            "397        398  Female   30        Student                     5.3   \n",
            "398        399  Female   41        Retired                    11.0   \n",
            "399        400    Male   37        Retired                     5.8   \n",
            "\n",
            "     Quality of Sleep (scale: 1-10)  Physical Activity Level (minutes/day)  \\\n",
            "0                               7.0                                     41   \n",
            "1                               4.9                                     41   \n",
            "2                               6.0                                    107   \n",
            "3                              10.0                                     20   \n",
            "4                               9.5                                     19   \n",
            "..                              ...                                    ...   \n",
            "395                             7.9                                     73   \n",
            "396                             6.1                                     72   \n",
            "397                             6.5                                     58   \n",
            "398                             9.1                                     73   \n",
            "399                             7.0                                     41   \n",
            "\n",
            "     Stress Level (scale: 1-10) BMI Category  \\\n",
            "0                             7        Obese   \n",
            "1                             5        Obese   \n",
            "2                             4  Underweight   \n",
            "3                            10        Obese   \n",
            "4                             4   Overweight   \n",
            "..                          ...          ...   \n",
            "395                           7       Normal   \n",
            "396                           8        Obese   \n",
            "397                          10        Obese   \n",
            "398                           9        Obese   \n",
            "399                           6       Normal   \n",
            "\n",
            "    Blood Pressure (systolic/diastolic)  Heart Rate (bpm)  Daily Steps  \\\n",
            "0                                124/70                91         8539   \n",
            "1                                131/86                81        18754   \n",
            "2                                122/70                81         2857   \n",
            "3                                124/72                55         6886   \n",
            "4                                133/78                97        14945   \n",
            "..                                  ...               ...          ...   \n",
            "395                              118/66                64        14497   \n",
            "396                              132/80                65        12848   \n",
            "397                              125/76                66        15255   \n",
            "398                              130/75                75         6567   \n",
            "399                              118/70                51        18079   \n",
            "\n",
            "    Sleep Disorder  \n",
            "0              NaN  \n",
            "1              NaN  \n",
            "2              NaN  \n",
            "3              NaN  \n",
            "4         Insomnia  \n",
            "..             ...  \n",
            "395    Sleep Apnea  \n",
            "396       Insomnia  \n",
            "397       Insomnia  \n",
            "398    Sleep Apnea  \n",
            "399            NaN  \n",
            "\n",
            "[400 rows x 13 columns]\n"
          ]
        }
      ]
    },
    {
      "cell_type": "code",
      "source": [
        "# Drop unnecessary columns and preprocess categorical features\n",
        "data_cleaned = data.drop(columns=[\"Person ID\"])"
      ],
      "metadata": {
        "id": "IprA7xFwFw_D"
      },
      "execution_count": 4,
      "outputs": []
    },
    {
      "cell_type": "code",
      "source": [
        "# Handle 'Blood Pressure' by splitting into systolic and diastolic\n",
        "data_cleaned[['Systolic', 'Diastolic']] = data_cleaned['Blood Pressure (systolic/diastolic)'].str.split('/', expand=True).astype(float)\n",
        "data_cleaned = data_cleaned.drop(columns=[\"Blood Pressure (systolic/diastolic)\"])"
      ],
      "metadata": {
        "id": "K7ttb2LZF1iu"
      },
      "execution_count": 6,
      "outputs": []
    },
    {
      "cell_type": "code",
      "source": [
        "# Label encode categorical columns\n",
        "categorical_cols = ['Gender', 'Occupation', 'BMI Category', 'Sleep Disorder']\n",
        "label_encoders = {col: LabelEncoder() for col in categorical_cols}\n",
        "for col in categorical_cols:\n",
        "    data_cleaned[col] = label_encoders[col].fit_transform(data_cleaned[col])"
      ],
      "metadata": {
        "id": "wQTNm6MoGGVz"
      },
      "execution_count": 7,
      "outputs": []
    },
    {
      "cell_type": "code",
      "source": [
        "# Separate features and target variable\n",
        "X = data_cleaned.drop(columns=[\"Sleep Disorder\"])\n",
        "y = data_cleaned[\"Sleep Disorder\"]\n",
        "\n",
        "# Standardize numeric features\n",
        "scaler = StandardScaler()\n",
        "X_scaled = scaler.fit_transform(X)"
      ],
      "metadata": {
        "id": "dLHfyTUVGNRN"
      },
      "execution_count": 8,
      "outputs": []
    },
    {
      "cell_type": "code",
      "source": [
        "# Split data into train and test sets\n",
        "X_train, X_test, y_train, y_test = train_test_split(X_scaled, y, test_size=0.3, random_state=42)"
      ],
      "metadata": {
        "id": "cy1pFzypGSt7"
      },
      "execution_count": 9,
      "outputs": []
    },
    {
      "cell_type": "code",
      "source": [
        "# Initialize models\n",
        "models = {\n",
        "    \"Logistic Regression\": LogisticRegression(random_state=42),\n",
        "    \"Naïve Bayes\": GaussianNB(),\n",
        "    \"KNN\": KNeighborsClassifier(),\n",
        "    \"Decision Tree\": DecisionTreeClassifier(random_state=42),\n",
        "    \"SVC\": SVC(random_state=42)\n",
        "}"
      ],
      "metadata": {
        "id": "pJV3i8mHGWXL"
      },
      "execution_count": 10,
      "outputs": []
    },
    {
      "cell_type": "code",
      "source": [
        "# Train and evaluate each model\n",
        "results = {}\n",
        "for model_name, model in models.items():\n",
        "    model.fit(X_train, y_train)\n",
        "    y_pred = model.predict(X_test)\n",
        "    report = classification_report(y_test, y_pred, output_dict=True)\n",
        "    results[model_name] = {\n",
        "        \"Accuracy\": report[\"accuracy\"],\n",
        "        \"Precision\": report[\"weighted avg\"][\"precision\"],\n",
        "        \"Recall\": report[\"weighted avg\"][\"recall\"],\n",
        "        \"F1-Score\": report[\"weighted avg\"][\"f1-score\"]\n",
        "    }\n",
        "# Display results\n",
        "results_df = pd.DataFrame(results).T\n",
        "print(results_df)"
      ],
      "metadata": {
        "colab": {
          "base_uri": "https://localhost:8080/"
        },
        "id": "vwewqWFRGb0q",
        "outputId": "a7e5c9c6-7417-4ac0-e1ab-315587ba1495"
      },
      "execution_count": 13,
      "outputs": [
        {
          "output_type": "stream",
          "name": "stdout",
          "text": [
            "                     Accuracy  Precision    Recall  F1-Score\n",
            "Logistic Regression  0.700000   0.732423  0.700000  0.584528\n",
            "Naïve Bayes          0.700000   0.732423  0.700000  0.584528\n",
            "KNN                  0.650000   0.566195  0.650000  0.589242\n",
            "Decision Tree        0.508333   0.488011  0.508333  0.497475\n",
            "SVC                  0.691667   0.478403  0.691667  0.565599\n"
          ]
        },
        {
          "output_type": "stream",
          "name": "stderr",
          "text": [
            "/usr/local/lib/python3.10/dist-packages/sklearn/metrics/_classification.py:1565: UndefinedMetricWarning: Precision is ill-defined and being set to 0.0 in labels with no predicted samples. Use `zero_division` parameter to control this behavior.\n",
            "  _warn_prf(average, modifier, f\"{metric.capitalize()} is\", len(result))\n",
            "/usr/local/lib/python3.10/dist-packages/sklearn/metrics/_classification.py:1565: UndefinedMetricWarning: Precision is ill-defined and being set to 0.0 in labels with no predicted samples. Use `zero_division` parameter to control this behavior.\n",
            "  _warn_prf(average, modifier, f\"{metric.capitalize()} is\", len(result))\n",
            "/usr/local/lib/python3.10/dist-packages/sklearn/metrics/_classification.py:1565: UndefinedMetricWarning: Precision is ill-defined and being set to 0.0 in labels with no predicted samples. Use `zero_division` parameter to control this behavior.\n",
            "  _warn_prf(average, modifier, f\"{metric.capitalize()} is\", len(result))\n",
            "/usr/local/lib/python3.10/dist-packages/sklearn/metrics/_classification.py:1565: UndefinedMetricWarning: Precision is ill-defined and being set to 0.0 in labels with no predicted samples. Use `zero_division` parameter to control this behavior.\n",
            "  _warn_prf(average, modifier, f\"{metric.capitalize()} is\", len(result))\n",
            "/usr/local/lib/python3.10/dist-packages/sklearn/metrics/_classification.py:1565: UndefinedMetricWarning: Precision is ill-defined and being set to 0.0 in labels with no predicted samples. Use `zero_division` parameter to control this behavior.\n",
            "  _warn_prf(average, modifier, f\"{metric.capitalize()} is\", len(result))\n",
            "/usr/local/lib/python3.10/dist-packages/sklearn/metrics/_classification.py:1565: UndefinedMetricWarning: Precision is ill-defined and being set to 0.0 in labels with no predicted samples. Use `zero_division` parameter to control this behavior.\n",
            "  _warn_prf(average, modifier, f\"{metric.capitalize()} is\", len(result))\n",
            "/usr/local/lib/python3.10/dist-packages/sklearn/metrics/_classification.py:1565: UndefinedMetricWarning: Precision is ill-defined and being set to 0.0 in labels with no predicted samples. Use `zero_division` parameter to control this behavior.\n",
            "  _warn_prf(average, modifier, f\"{metric.capitalize()} is\", len(result))\n",
            "/usr/local/lib/python3.10/dist-packages/sklearn/metrics/_classification.py:1565: UndefinedMetricWarning: Precision is ill-defined and being set to 0.0 in labels with no predicted samples. Use `zero_division` parameter to control this behavior.\n",
            "  _warn_prf(average, modifier, f\"{metric.capitalize()} is\", len(result))\n",
            "/usr/local/lib/python3.10/dist-packages/sklearn/metrics/_classification.py:1565: UndefinedMetricWarning: Precision is ill-defined and being set to 0.0 in labels with no predicted samples. Use `zero_division` parameter to control this behavior.\n",
            "  _warn_prf(average, modifier, f\"{metric.capitalize()} is\", len(result))\n"
          ]
        }
      ]
    }
  ]
}